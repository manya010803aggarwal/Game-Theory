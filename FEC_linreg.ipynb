{
 "cells": [
  {
   "cell_type": "code",
   "execution_count": 20,
   "id": "bd416cdd",
   "metadata": {},
   "outputs": [
    {
     "name": "stdout",
     "output_type": "stream",
     "text": [
      "Analysing the data for a 4 variable linear regression model we get:\n",
      "[m1,m2,m3,m4]= [0.01473691 0.01398679 0.00636352 0.00921406]\n",
      "c= 0.10504286549753195\n"
     ]
    }
   ],
   "source": [
    "import pandas as pd\n",
    "import numpy as np\n",
    "from sklearn import linear_model\n",
    "df = pd.read_csv(\"dataframe.csv\")\n",
    "reg=linear_model.LinearRegression()\n",
    "reg.fit(df[['x1','x2','x3','x4']],df.growth)\n",
    "#print(reg.coef_)\n",
    "#print(reg.intercept_)\n",
    "print('Analysing the data for a 4 variable linear regression model we get:')\n",
    "print(\"[m1,m2,m3,m4]=\", reg.coef_) \n",
    "print(\"c=\",reg.intercept_)\n",
    "\n"
   ]
  },
  {
   "cell_type": "code",
   "execution_count": null,
   "id": "429a09b6",
   "metadata": {},
   "outputs": [],
   "source": []
  }
 ],
 "metadata": {
  "kernelspec": {
   "display_name": "Python 3 (ipykernel)",
   "language": "python",
   "name": "python3"
  },
  "language_info": {
   "codemirror_mode": {
    "name": "ipython",
    "version": 3
   },
   "file_extension": ".py",
   "mimetype": "text/x-python",
   "name": "python",
   "nbconvert_exporter": "python",
   "pygments_lexer": "ipython3",
   "version": "3.11.3"
  }
 },
 "nbformat": 4,
 "nbformat_minor": 5
}
